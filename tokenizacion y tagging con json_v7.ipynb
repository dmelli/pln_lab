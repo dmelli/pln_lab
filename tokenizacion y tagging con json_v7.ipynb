{
 "cells": [
  {
   "cell_type": "code",
   "execution_count": 7,
   "metadata": {
    "collapsed": false
   },
   "outputs": [
    {
     "name": "stdout",
     "output_type": "stream",
     "text": [
      "/home/master/anaconda3/lib/python3.5/site-packages/pyfreeling/__init__.py\n"
     ]
    }
   ],
   "source": [
    "import json\n",
    "from pyfreeling import Analyzer\n",
    "\n",
    "import inspect\n",
    "print(inspect.getfile(Analyzer))\n",
    "\n",
    "import upos_converter as up\n",
    "import importlib\n",
    "importlib.reload(up)\n",
    "\n",
    "import nltk\n",
    "import pandas\n",
    "import random\n"
   ]
  },
  {
   "cell_type": "code",
   "execution_count": 2,
   "metadata": {
    "collapsed": true
   },
   "outputs": [],
   "source": [
    "config_file = 'es.cfg'\n",
    "analyzer = Analyzer(config=config_file)"
   ]
  },
  {
   "cell_type": "code",
   "execution_count": 3,
   "metadata": {
    "collapsed": false
   },
   "outputs": [],
   "source": [
    "def tag_it_all(text):\n",
    "    o = analyzer.run(text.encode('utf-8'),'flush','noner','nortkcon', output='json', lang='es').decode(\"utf-8\")\n",
    "    return json.loads(\"[\" + o + \"]\")\n",
    "# TODO: No esta muy prolijo usar en analyzer global, habria que pasarlo como parametro"
   ]
  },
  {
   "cell_type": "code",
   "execution_count": 129,
   "metadata": {
    "collapsed": false
   },
   "outputs": [],
   "source": [
    "#recibe una sentencia y retorna una lista en formato [(form,ctag),...]\n",
    "def prepare_list_sentence_for_ner(sentence):\n",
    "    resultado = []\n",
    "    for word in sentence:\n",
    "        if '+' in word['ctag']:\n",
    "            splitCtag = word['ctag'].split('+') \n",
    "            splitLemma = word['lemma'].split('+') \n",
    "            for i in range(len(splitCtag)):\n",
    "                resultado.append((splitLemma[i],splitCtag[i]))\n",
    "        else:\n",
    "            resultado.append((word['form'],word['ctag']))\n",
    "    return resultado"
   ]
  },
  {
   "cell_type": "code",
   "execution_count": 8,
   "metadata": {
    "collapsed": false
   },
   "outputs": [],
   "source": [
    "import sys\n",
    "#ruta a la carpeta de nltk_trainner\n",
    "sys.path.append('/home/master/Descargas/nltk-trainer-master')\n",
    "\n",
    "#se importa el tagger y chunker ya entrenados con nltk trainner\n",
    "tagger = nltk.data.load('taggers.pickle')\n",
    "chunker = nltk.data.load('naiveBayes.pickle')"
   ]
  },
  {
   "cell_type": "code",
   "execution_count": 15,
   "metadata": {
    "collapsed": true
   },
   "outputs": [],
   "source": [
    "#recibe una lista de tuplas [(form,ctag)]\n",
    "#retorna una lista con el tag ner en formato IOB\n",
    "def list_to_ner(lista_entrada):\n",
    "    #se calcula el ner\n",
    "    str_chunks = chunker.parse(lista_entrada)\n",
    "    #se convierte a formato IOB\n",
    "    newList = nltk.chunk.tree2conlltags(str_chunks)\n",
    "    #se eliminan los campos MISC\n",
    "    list_of_ners = [list(elem) for elem in newList]\n",
    "    for i in list_of_ners:\n",
    "        if 'MISC' in i[2]:\n",
    "            i[2]='O'\n",
    "    return list_of_ners"
   ]
  },
  {
   "cell_type": "markdown",
   "metadata": {},
   "source": [
    "A-Revisar postfunction adjetivo\n",
    "C-no tiene genero ni numero\n",
    "V-relative, demonstrative, exclamative, numeral\n",
    "N-\tsobran neclass#nesubclass#degree\n",
    "P-'numeral', possessornum, possessive no tiene\n",
    "V- dictada VMP00SF problema\n",
    "S-las prep no tienen genero ni numero"
   ]
  },
  {
   "cell_type": "code",
   "execution_count": 209,
   "metadata": {
    "collapsed": false
   },
   "outputs": [],
   "source": [
    "def json_to_string(lista_entrada):\n",
    "    ret = \"\"\n",
    "    for sent_id, entrada in enumerate(lista_entrada):\n",
    "        list_tags = prepare_list_sentence_for_ner(entrada['tokens'])\n",
    "        ner_list = list_to_ner(list_tags)\n",
    "        nerCounter = 0\n",
    "        ret += '#Sentence '+ str(sent_id+1) +'\\n'\n",
    "        offset = 1\n",
    "        for token_id, token in enumerate(entrada['tokens']):\n",
    "            form = token['form']\n",
    "            if token['tag'].count('+') > 0:\n",
    "                #Estamos en una contraccion\n",
    "                tags = token['tag'].split('+')\n",
    "                lemmas = token['lemma'].split('+')\n",
    "                ret += str(token_id+1) + \"-\"\n",
    "                sub_ret = \"\\t\" + form + '\\t_\\t_\\t_\\t_\\t_\\t_\\t_\\t_\\n'\n",
    "                offset += len(tags)-1\n",
    "                for i in range(len(tags)):\n",
    "                    lemma = lemmas[i]\n",
    "                    l = list(tags[i])\n",
    "                    nuestro = up.upos_converter(l)\n",
    "                    upostag, feats = up.upos_converter(l)\n",
    "                    #TODO: en la asignacion de ahi abajo ver que pasa con form\n",
    "                    pos=token_id + i+1\n",
    "                    sub_ret += str(pos) + '\\t' + lemma  + '\\t' + lemma + '\\t' + upostag + '\\t' + feats + '\\t_\\t_\\t_\\t_\\t' + ner_list[nerCounter][2] +'\\n'\n",
    "                    nerCounter=nerCounter+1\n",
    "                #Fin del for, concatenamos el sub resultado\n",
    "                #offset -= 1 #Sacamos 1 al offset pq el for hace uno de mas\n",
    "                ret += str(token_id + len(tags))+sub_ret\n",
    "            else:   \n",
    "                lemma = token['lemma']\n",
    "                l = list(token['tag'])\n",
    "                nuestro = up.upos_converter(l)\n",
    "                upostag, feats = up.upos_converter(l)\n",
    "                pos=token_id + offset\n",
    "                ret += str(pos) + '\\t' + form  + '\\t' + lemma + '\\t' + upostag + '\\t' + feats + '\\t_\\t_\\t_\\t_\\t' +  ner_list[nerCounter][2] +'\\n'\n",
    "                nerCounter=nerCounter+1\n",
    "        #offset += len(entrada['tokens']) -1\n",
    "        ret += '\\n\\n'\n",
    "    return ret"
   ]
  },
  {
   "cell_type": "code",
   "execution_count": 210,
   "metadata": {
    "collapsed": false
   },
   "outputs": [
    {
     "name": "stdout",
     "output_type": "stream",
     "text": [
      "#Sentence 1\n",
      "1\tPedro\tpedro\tNOUN\tGender=Masc|Number=Sing\t_\t_\t_\t_\tB-PER\n",
      "2\tes\tser\tVERB\tMood=Ind|Number=Sing|Person=3|Tense=Pres\t_\t_\t_\t_\tO\n",
      "3\tel\tel\tDET\tGender=Masc|Number=Sing|PronType=Art\t_\t_\t_\t_\tO\n",
      "4\tperro\tperro\tNOUN\tGender=Masc|Number=Sing\t_\t_\t_\t_\tB-ORG\n",
      "5-6\tdel\t_\t_\t_\t_\t_\t_\t_\t_\n",
      "5\tde\tde\tADP\t\t_\t_\t_\t_\tO\n",
      "6\tel\tel\tDET\tGender=Masc|Number=Sing|PronType=Art\t_\t_\t_\t_\tO\n",
      "7\tJuan\tjuan\tVERB\tMood=Ind|Number=Plur|Person=3|Tense=Pres\t_\t_\t_\t_\tB-PER\n",
      "8\tAntonio\tantonio\tNOUN\tGender=Masc|Number=Sing\t_\t_\t_\t_\tI-PER\n",
      "9\tes\tser\tVERB\tMood=Ind|Number=Sing|Person=3|Tense=Pres\t_\t_\t_\t_\tO\n",
      "10\tmalo\tmalo\tADJ\tGender=Masc|Number=Sing\t_\t_\t_\t_\tO\n",
      "11\t.\t.\tPUNCT\t\t_\t_\t_\t_\tO\n",
      "\n",
      "\n",
      "\n"
     ]
    }
   ],
   "source": [
    "print(json_to_string(tag_it_all(\"Pedro es el perro del Juan Antonio es malo.\")))"
   ]
  },
  {
   "cell_type": "code",
   "execution_count": 44,
   "metadata": {
    "collapsed": false
   },
   "outputs": [],
   "source": [
    "corpus = pandas.read_csv(\"corpus_pj.csv\", delimiter=',', skip_blank_lines=True, encoding='utf-8')\n",
    "corpus = corpus.drop_duplicates()\n",
    "sentencias = corpus[\"sentencia\"]"
   ]
  },
  {
   "cell_type": "code",
   "execution_count": 45,
   "metadata": {
    "collapsed": false
   },
   "outputs": [
    {
     "data": {
      "text/html": [
       "<style>.container { width:100% !important; }</style>"
      ],
      "text/plain": [
       "<IPython.core.display.HTML object>"
      ]
     },
     "metadata": {},
     "output_type": "display_data"
    }
   ],
   "source": [
    "from IPython.core.display import display, HTML\n",
    "display(HTML(\"<style>.container { width:100% !important; }</style>\"))"
   ]
  },
  {
   "cell_type": "code",
   "execution_count": 206,
   "metadata": {
    "collapsed": false
   },
   "outputs": [],
   "source": [
    "importlib.reload(up)\n",
    "def show(sentencia=None):\n",
    "    if type(sentencia) == str:\n",
    "        texto = sentencia\n",
    "    else:\n",
    "        if type(sentencia) == int:\n",
    "            i = sentencia % len(sentencias)\n",
    "        else:\n",
    "            i = random.randrange(len(sentencias))\n",
    "            print(i)\n",
    "        texto = sentencias[i]\n",
    "    try:\n",
    "        text=json_to_string(tag_it_all(texto))\n",
    "        #print(text)\n",
    "        for line in text.split(\"\\n\"):\n",
    "            line = line.split(\"\\t\")# Splits on whitespace\n",
    "            if len(line)==10:\n",
    "                print('{0[0]:<10}{0[1]:<40}{0[2]:<30}{0[3]:<10}{0[4]:>60}{0[5]:>2}{0[6]:>2}{0[7]:>2}{0[8]:>2}{0[9]:>7}'.format(line))\n",
    "            else:\n",
    "                print(line[0])\n",
    "    except Exception as e:\n",
    "        print(i)\n",
    "        raise e\n",
    "        \n",
    "\n",
    "# show(15213212312)"
   ]
  },
  {
   "cell_type": "code",
   "execution_count": 211,
   "metadata": {
    "collapsed": false
   },
   "outputs": [
    {
     "name": "stdout",
     "output_type": "stream",
     "text": [
      "#Sentence 1\n",
      "1         Montevideo                              monte_video                   NOUN                                           Gender=Masc|Number=Sing _ _ _ _  B-LOC\n",
      "2         ,                                       ,                             PUNCT                                                                  _ _ _ _      O\n",
      "3         treinta                                 30                            NUM                                                      NumForm=Digit _ _ _ _      O\n",
      "4         de                                      de                            ADP                                                                    _ _ _ _      O\n",
      "5         setiembre                               setiembre                     NOUN                                           Gender=Masc|Number=Sing _ _ _ _      O\n",
      "6         de                                      de                            ADP                                                                    _ _ _ _      O\n",
      "7         dos_mil_cinco                           2005                          NUM                                                      NumForm=Digit _ _ _ _      O\n",
      "8         .                                       .                             PUNCT                                                                  _ _ _ _      O\n",
      "\n",
      "\n",
      "#Sentence 2\n",
      "1         VISTOS                                  ver                           VERB                                           Gender=Masc|Number=Plur _ _ _ _      O\n",
      "2         :                                       :                             PUNCT                                                                  _ _ _ _      O\n",
      "3         Estos                                   este                          DET                               Gender=Masc|Number=Plur|PronType=Dem _ _ _ _      O\n",
      "4         autos                                   auto                          NOUN                                           Gender=Masc|Number=Plur _ _ _ _      O\n",
      "5         caratulados                             caratulados                   NOUN                                           Gender=Masc|Number=Plur _ _ _ _  B-ORG\n",
      "6         :                                       :                             PUNCT                                                                  _ _ _ _      O\n",
      "7         \"                                       \"                             PUNCT                                                                  _ _ _ _      O\n",
      "8         SALAZAR                                 sal_azar                      NOUN                                            Gender=Fem|Number=Sing _ _ _ _      O\n",
      "9         ,                                       ,                             PUNCT                                                                  _ _ _ _      O\n",
      "10        JUAN                                    juan                          NOUN                                           Gender=Masc|Number=Sing _ _ _ _  B-PER\n",
      "11        C                                       c                             NOUN                                            Gender=Fem|Number=Sing _ _ _ _  I-PER\n",
      "12        /                                       /                             PUNCT                                                                  _ _ _ _  I-PER\n",
      "13        GIBBS                                   gibbs                         NOUN                                           Gender=Masc|Number=Plur _ _ _ _  I-PER\n",
      "14        ,                                       ,                             PUNCT                                                                  _ _ _ _      O\n",
      "15        ALBERTO                                 alberto                       VERB                                           Gender=Masc|Number=Sing _ _ _ _      O\n",
      "16        -                                       -                             PUNCT                                                                  _ _ _ _      O\n",
      "17        Entrega                                 entrega                       NOUN                                            Gender=Fem|Number=Sing _ _ _ _  B-LOC\n",
      "18        de                                      de                            ADP                                                                    _ _ _ _      O\n",
      "19        la                                      el                            DET                                Gender=Fem|Number=Sing|PronType=Art _ _ _ _      O\n",
      "20        cosa                                    cosa                          NOUN                                            Gender=Fem|Number=Sing _ _ _ _  B-ORG\n",
      "21        -                                       -                             PUNCT                                                                  _ _ _ _      O\n",
      "22        EXCEPCION                               excepcion                     NOUN                                            Gender=Fem|Number=Sing _ _ _ _  B-LOC\n",
      "23        DE                                      de                            ADP                                                                    _ _ _ _  I-LOC\n",
      "24        INCONSTITUCIONALIDAD                    inconstitucionalidad          NOUN                                            Gender=Fem|Number=Sing _ _ _ _  I-LOC\n",
      "25        ART.                                    art.                          NOUN                                            Gender=Fem|Number=Sing _ _ _ _  I-LOC\n",
      "26        396                                     396                           NUM                                                      NumForm=Digit _ _ _ _  I-LOC\n",
      "27        INC.                                    inc.                          NOUN                                            Gender=Fem|Number=Sing _ _ _ _  I-LOC\n",
      "28        3                                       3                             NUM                                                      NumForm=Digit _ _ _ _      O\n",
      "29-30     DEL                                     _                             _                                                                    _ _ _ _ _      _\n",
      "29        de                                      de                            ADP                                                                    _ _ _ _      O\n",
      "30        el                                      el                            DET                               Gender=Masc|Number=Sing|PronType=Art _ _ _ _      O\n",
      "31        C.G.P.                                  c.g.p.                        NOUN                                            Gender=Fem|Number=Sing _ _ _ _  B-ORG\n",
      "32        \"                                       \"                             PUNCT                                                                  _ _ _ _  I-ORG\n",
      "33        ,                                       ,                             PUNCT                                                                  _ _ _ _      O\n",
      "34        Ficha                                   fichar                        VERB                          Mood=Ind|Number=Sing|Person=3|Tense=Pres _ _ _ _  B-PER\n",
      "35        29-32/2005                              29-32/2005                    NUM                                                      NumForm=Digit _ _ _ _  I-PER\n",
      "36        .                                       .                             PUNCT                                                                  _ _ _ _      O\n",
      "\n",
      "\n",
      "#Sentence 3\n",
      "1         CONSIDERANDO                            considerando                  NOUN                                           Gender=Masc|Number=Sing _ _ _ _  B-LOC\n",
      "2         :                                       :                             PUNCT                                                                  _ _ _ _      O\n",
      "3         Que                                     que                           SCONJ                                                                  _ _ _ _      O\n",
      "4         en                                      en                            ADP                                                                    _ _ _ _      O\n",
      "5         \"                                       \"                             PUNCT                                                                  _ _ _ _      O\n",
      "6         cualquier                               cualquiera                    DET                                           Number=Sing|PronType=Ind _ _ _ _      O\n",
      "7         estado                                  estado                        NOUN                                           Gender=Masc|Number=Sing _ _ _ _      O\n",
      "8         de                                      de                            ADP                                                                    _ _ _ _      O\n",
      "9         los                                     el                            DET                               Gender=Masc|Number=Plur|PronType=Art _ _ _ _      O\n",
      "10        procedimientos                          procedimiento                 NOUN                                           Gender=Masc|Number=Plur _ _ _ _      O\n",
      "11        y                                       y                             CONJ                                                                   _ _ _ _      O\n",
      "12        con                                     con                           ADP                                                                    _ _ _ _      O\n",
      "13        prescindencia                           prescindencia                 NOUN                                            Gender=Fem|Number=Sing _ _ _ _      O\n",
      "14        de                                      de                            ADP                                                                    _ _ _ _      O\n",
      "15        la                                      el                            DET                                Gender=Fem|Number=Sing|PronType=Art _ _ _ _      O\n",
      "16        situación                               situación                     NOUN                                            Gender=Fem|Number=Sing _ _ _ _      O\n",
      "17        en                                      en                            ADP                                                                    _ _ _ _      O\n",
      "18        que                                     que                           SCONJ                                                                  _ _ _ _      O\n",
      "19        se                                      se                            PRON                                                                   _ _ _ _      O\n",
      "20        encontrare                              encontrar                     VERB                           Mood=Sub|Number=Sing|Person=1|Tense=Fut _ _ _ _      O\n",
      "21        el                                      el                            DET                               Gender=Masc|Number=Sing|PronType=Art _ _ _ _      O\n",
      "22        trámite                                 trámite                       NOUN                                           Gender=Masc|Number=Sing _ _ _ _  B-ORG\n",
      "23        respectivo                              respectivo                    ADJ                                            Gender=Masc|Number=Sing _ _ _ _  I-ORG\n",
      "24        ,                                       ,                             PUNCT                                                                  _ _ _ _      O\n",
      "25        la                                      el                            DET                                Gender=Fem|Number=Sing|PronType=Art _ _ _ _      O\n",
      "26        Suprema                                 supremo                       ADJ                                             Gender=Fem|Number=Sing _ _ _ _  B-ORG\n",
      "27        Corte                                   corte                         NOUN                                                       Number=Sing _ _ _ _  I-ORG\n",
      "28        de                                      de                            ADP                                                                    _ _ _ _  I-ORG\n",
      "29        Justicia                                justicia                      NOUN                                            Gender=Fem|Number=Sing _ _ _ _  I-ORG\n",
      "30        podrá                                   poder                         VERB                           Mood=Ind|Number=Sing|Person=3|Tense=Fut _ _ _ _      O\n",
      "31        resolver                                resolver                      VERB                                                                   _ _ _ _      O\n",
      "32        la                                      el                            DET                                Gender=Fem|Number=Sing|PronType=Art _ _ _ _      O\n",
      "33        cuestión                                cuestión                      NOUN                                            Gender=Fem|Number=Sing _ _ _ _      O\n",
      "34        acreditado                              acreditar                     VERB                                           Gender=Masc|Number=Sing _ _ _ _      O\n",
      "35        que                                     que                           SCONJ                                                                  _ _ _ _      O\n",
      "36        fuere                                   ser                           VERB                           Mood=Sub|Number=Sing|Person=1|Tense=Fut _ _ _ _      O\n",
      "37        ...2o                                   ...2o                         NUM                                                      NumForm=Digit _ _ _ _      O\n",
      "38        .                                       .                             PUNCT                                                                  _ _ _ _      O\n",
      "39        que                                     que                           SCONJ                                                                  _ _ _ _      O\n",
      "40        existiere                               existir                       VERB                           Mood=Sub|Number=Sing|Person=1|Tense=Fut _ _ _ _      O\n",
      "41        jurisprudencia                          jurisprudencia                NOUN                                            Gender=Fem|Number=Sing _ _ _ _      O\n",
      "42        en                                      en                            ADP                                                                    _ _ _ _      O\n",
      "43        el                                      el                            DET                               Gender=Masc|Number=Sing|PronType=Art _ _ _ _      O\n",
      "44        caso                                    caso                          NOUN                                           Gender=Masc|Number=Sing _ _ _ _      O\n",
      "45        planteado                               plantear                      VERB                                           Gender=Masc|Number=Sing _ _ _ _      O\n",
      "46        y                                       y                             CONJ                                                                   _ _ _ _      O\n",
      "47        se                                      se                            PRON                                                                   _ _ _ _      O\n",
      "48        declarare                               declarar                      VERB                           Mood=Sub|Number=Sing|Person=1|Tense=Fut _ _ _ _      O\n",
      "49        por                                     por                           ADP                                                                    _ _ _ _      O\n",
      "50        ese                                     ese                           DET                               Gender=Masc|Number=Sing|PronType=Dem _ _ _ _      O\n",
      "51        órgano                                  órgano                        NOUN                                           Gender=Masc|Number=Sing _ _ _ _      O\n",
      "52        judicial                                judicial                      ADJ                                                        Number=Sing _ _ _ _      O\n",
      "53        que                                     que                           PRON                                                                   _ _ _ _      O\n",
      "54        mantendrá                               mantener                      VERB                           Mood=Ind|Number=Sing|Person=3|Tense=Fut _ _ _ _      O\n",
      "55        su                                      su                            DET                                               Number=Sing|Person=3 _ _ _ _      O\n",
      "56        anterior                                anterior                      ADJ                                                        Number=Sing _ _ _ _      O\n",
      "57        criterio                                criterio                      NOUN                                           Gender=Masc|Number=Sing _ _ _ _      O\n",
      "58        \"                                       \"                             PUNCT                                                                  _ _ _ _      O\n",
      "59        (                                       (                             PUNCT                                                                  _ _ _ _      O\n",
      "60        Artículo                                artículo                      NOUN                                           Gender=Masc|Number=Sing _ _ _ _  B-ORG\n",
      "61        519                                     519                           NUM                                                      NumForm=Digit _ _ _ _  I-ORG\n",
      "62-63     del                                     _                             _                                                                    _ _ _ _ _      _\n",
      "62        de                                      de                            ADP                                                                    _ _ _ _      O\n",
      "63        el                                      el                            DET                               Gender=Masc|Number=Sing|PronType=Art _ _ _ _      O\n",
      "64        Código                                  código                        NOUN                                           Gender=Masc|Number=Sing _ _ _ _  B-ORG\n",
      "65        General                                 general                       ADJ                                                        Number=Sing _ _ _ _  I-ORG\n",
      "65-66     del                                     _                             _                                                                    _ _ _ _ _      _\n",
      "65        de                                      de                            ADP                                                                    _ _ _ _  I-ORG\n",
      "66        el                                      el                            DET                               Gender=Masc|Number=Sing|PronType=Art _ _ _ _      O\n",
      "68        Proceso                                 proceso                       NOUN                                           Gender=Masc|Number=Sing _ _ _ _  B-ORG\n",
      "69        )                                       )                             PUNCT                                                                  _ _ _ _      O\n",
      "70        .                                       .                             PUNCT                                                                  _ _ _ _      O\n",
      "\n",
      "\n",
      "#Sentence 4\n",
      "1         Por                                     por                           ADP                                                                    _ _ _ _      O\n",
      "2         sentencia                               sentencia                     NOUN                                            Gender=Fem|Number=Sing _ _ _ _      O\n",
      "3         No                                      no                            ADV                                                       Negative=Neg _ _ _ _      O\n",
      "4         .                                       .                             PUNCT                                                                  _ _ _ _      O\n",
      "5         132                                     132                           NUM                                                      NumForm=Digit _ _ _ _      O\n",
      "6-7       del                                     _                             _                                                                    _ _ _ _ _      _\n",
      "6         de                                      de                            ADP                                                                    _ _ _ _      O\n",
      "7         el                                      el                            DET                               Gender=Masc|Number=Sing|PronType=Art _ _ _ _      O\n",
      "8         ocho_de_mayo_de_dos_mil_dos             [??:8/5/2002:??.??:??]        NOUN                                                       AdvType=Tim _ _ _ _  B-ORG\n",
      "9         ,                                       ,                             PUNCT                                                                  _ _ _ _      O\n",
      "10        la                                      el                            DET                                Gender=Fem|Number=Sing|PronType=Art _ _ _ _      O\n",
      "11        Corporación                             corporación                   NOUN                                            Gender=Fem|Number=Sing _ _ _ _  B-ORG\n",
      "12        desestimó                               desestimar                    VERB                          Mood=Ind|Number=Sing|Person=3|Tense=Past _ _ _ _      O\n",
      "13        la                                      el                            DET                                Gender=Fem|Number=Sing|PronType=Art _ _ _ _      O\n",
      "14        solicitud                               solicitud                     NOUN                                            Gender=Fem|Number=Sing _ _ _ _      O\n",
      "15        de                                      de                            ADP                                                                    _ _ _ _      O\n",
      "16        declaración                             declaración                   NOUN                                            Gender=Fem|Number=Sing _ _ _ _      O\n",
      "17        de                                      de                            ADP                                                                    _ _ _ _      O\n",
      "18        inconstitucionalidad                    inconstitucionalidad          NOUN                                            Gender=Fem|Number=Sing _ _ _ _      O\n",
      "19        de                                      de                            ADP                                                                    _ _ _ _      O\n",
      "20        la                                      el                            DET                                Gender=Fem|Number=Sing|PronType=Art _ _ _ _      O\n",
      "21        norma                                   norma                         NOUN                                            Gender=Fem|Number=Sing _ _ _ _      O\n",
      "22        impugnada                               impugnar                      VERB                                            Gender=Fem|Number=Sing _ _ _ _      O\n",
      "23        en                                      en                            ADP                                                                    _ _ _ _      O\n",
      "24        autos                                   auto                          NOUN                                           Gender=Masc|Number=Plur _ _ _ _      O\n",
      "25        en                                      en                            ADP                                                                    _ _ _ _      O\n",
      "26        términos                                término                       NOUN                                           Gender=Masc|Number=Plur _ _ _ _      O\n",
      "27        que                                     que                           PRON                                                                   _ _ _ _      O\n",
      "28        por                                     por                           ADP                                                                    _ _ _ _      O\n",
      "29        su                                      su                            DET                                               Number=Sing|Person=3 _ _ _ _      O\n",
      "30        exacta                                  exacto                        ADJ                                             Gender=Fem|Number=Sing _ _ _ _      O\n",
      "31        adecuación                              adecuación                    NOUN                                            Gender=Fem|Number=Sing _ _ _ _      O\n",
      "31-32     al                                      _                             _                                                                    _ _ _ _ _      _\n",
      "31        a                                       a                             ADP                                                                    _ _ _ _      O\n",
      "32        el                                      el                            DET                               Gender=Masc|Number=Sing|PronType=Art _ _ _ _      O\n",
      "34        presente                                presente                      ADJ                                                        Number=Sing _ _ _ _      O\n",
      "35        caso                                    caso                          NOUN                                           Gender=Masc|Number=Sing _ _ _ _      O\n",
      "36        se                                      se                            PRON                                                                   _ _ _ _      O\n",
      "37        tendrán                                 tener                         VERB                           Mood=Ind|Number=Plur|Person=3|Tense=Fut _ _ _ _      O\n",
      "38        por                                     por                           ADP                                                                    _ _ _ _      O\n",
      "39        reproducidos                            reproducir                    VERB                                           Gender=Masc|Number=Plur _ _ _ _      O\n",
      "40        y                                       y                             CONJ                                                                   _ _ _ _      O\n",
      "41        parte                                   parte                         NOUN                                                       Number=Sing _ _ _ _      O\n",
      "42        integrante                              integrante                    ADJ                                                        Number=Sing _ _ _ _      O\n",
      "43        de                                      de                            ADP                                                                    _ _ _ _      O\n",
      "44        esta                                    este                          DET                                Gender=Fem|Number=Sing|PronType=Dem _ _ _ _      O\n",
      "45        decisión                                decisión                      NOUN                                            Gender=Fem|Number=Sing _ _ _ _      O\n",
      "46        .                                       .                             PUNCT                                                                  _ _ _ _      O\n",
      "\n",
      "\n",
      "#Sentence 5\n",
      "1         Por                                     por                           ADP                                                                    _ _ _ _      O\n",
      "2         estos                                   este                          DET                               Gender=Masc|Number=Plur|PronType=Dem _ _ _ _      O\n",
      "3         fundamentos                             fundamento                    NOUN                                           Gender=Masc|Number=Plur _ _ _ _      O\n",
      "4         ,                                       ,                             PUNCT                                                                  _ _ _ _      O\n",
      "5         y                                       y                             CONJ                                                                   _ _ _ _      O\n",
      "6         lo                                      el                            DET                                                        Number=Sing _ _ _ _      O\n",
      "7         dispuesto                               disponer                      VERB                                           Gender=Masc|Number=Sing _ _ _ _      O\n",
      "8         por                                     por                           ADP                                                                    _ _ _ _      O\n",
      "9         los                                     el                            DET                               Gender=Masc|Number=Plur|PronType=Art _ _ _ _      O\n",
      "10        artículos                               artículo                      NOUN                                           Gender=Masc|Number=Plur _ _ _ _      O\n",
      "11        508                                     508                           NUM                                                      NumForm=Digit _ _ _ _      O\n",
      "12        y                                       y                             CONJ                                                                   _ _ _ _      O\n",
      "13        siguientes                              siguiente                     ADJ                                                        Number=Plur _ _ _ _      O\n",
      "14-15     del                                     _                             _                                                                    _ _ _ _ _      _\n",
      "14        de                                      de                            ADP                                                                    _ _ _ _      O\n",
      "15        el                                      el                            DET                               Gender=Masc|Number=Sing|PronType=Art _ _ _ _      O\n",
      "16        Código                                  código                        NOUN                                           Gender=Masc|Number=Sing _ _ _ _  B-ORG\n",
      "17        General                                 general                       ADJ                                                        Number=Sing _ _ _ _  I-ORG\n",
      "17-18     del                                     _                             _                                                                    _ _ _ _ _      _\n",
      "17        de                                      de                            ADP                                                                    _ _ _ _  I-ORG\n",
      "18        el                                      el                            DET                               Gender=Masc|Number=Sing|PronType=Art _ _ _ _      O\n",
      "20        Proceso                                 proceso                       NOUN                                           Gender=Masc|Number=Sing _ _ _ _  B-ORG\n",
      "21        ,                                       ,                             PUNCT                                                                  _ _ _ _      O\n",
      "22        la                                      el                            DET                                Gender=Fem|Number=Sing|PronType=Art _ _ _ _      O\n",
      "23        Suprema                                 supremo                       ADJ                                             Gender=Fem|Number=Sing _ _ _ _  B-ORG\n",
      "24        Corte                                   corte                         NOUN                                                       Number=Sing _ _ _ _  I-ORG\n",
      "25        de                                      de                            ADP                                                                    _ _ _ _  I-ORG\n",
      "26        Justicia                                justicia                      NOUN                                            Gender=Fem|Number=Sing _ _ _ _  I-ORG\n",
      "27        ,                                       ,                             PUNCT                                                                  _ _ _ _      O\n",
      "28        FALLA                                   fallar                        VERB                          Mood=Ind|Number=Sing|Person=3|Tense=Pres _ _ _ _  B-PER\n",
      "29        :                                       :                             PUNCT                                                                  _ _ _ _  I-PER\n",
      "30        DANDO                                   dar                           VERB                                                                   _ _ _ _  B-PER\n",
      "31        INGRESO                                 ingreso                       NOUN                                           Gender=Masc|Number=Sing _ _ _ _  I-PER\n",
      "32        A                                       a                             ADP                                                                    _ _ _ _      O\n",
      "33        LA                                      el                            DET                                Gender=Fem|Number=Sing|PronType=Art _ _ _ _      O\n",
      "34        EXCEPCION                               excepcion                     NOUN                                            Gender=Fem|Number=Sing _ _ _ _      O\n",
      "35        DE                                      de                            ADP                                                                    _ _ _ _      O\n",
      "36        INCONSTITUCIONALIDAD                    inconstitucionalidad          NOUN                                            Gender=Fem|Number=Sing _ _ _ _      O\n",
      "37        DEDUCIDA                                deducir                       VERB                                            Gender=Fem|Number=Sing _ _ _ _      O\n",
      "38        CONTRA                                  contra                        ADP                                                                    _ _ _ _      O\n",
      "39        EL                                      el                            DET                               Gender=Masc|Number=Sing|PronType=Art _ _ _ _      O\n",
      "40        ART.                                    art.                          NOUN                                            Gender=Fem|Number=Sing _ _ _ _      O\n",
      "41        396                                     396                           NUM                                                      NumForm=Digit _ _ _ _      O\n",
      "42        INC.                                    inc.                          NOUN                                            Gender=Fem|Number=Sing _ _ _ _      O\n",
      "43        3                                       3                             NUM                                                      NumForm=Digit _ _ _ _      O\n",
      "42-43     DEL                                     _                             _                                                                    _ _ _ _ _      _\n",
      "42        de                                      de                            ADP                                                                    _ _ _ _      O\n",
      "43        el                                      el                            DET                               Gender=Masc|Number=Sing|PronType=Art _ _ _ _      O\n",
      "46        C.G.P.                                  c.g.p.                        NOUN                                            Gender=Fem|Number=Sing _ _ _ _  B-ORG\n",
      "47        Y                                       y                             CONJ                                                                   _ _ _ _      O\n",
      "48        ,                                       ,                             PUNCT                                                                  _ _ _ _      O\n",
      "49        POR                                     por                           ADP                                                                    _ _ _ _      O\n",
      "50        VIA                                     via                           NOUN                                            Gender=Fem|Number=Sing _ _ _ _      O\n",
      "51        ANTICIPADA                              anticipar                     VERB                                            Gender=Fem|Number=Sing _ _ _ _      O\n",
      "52        ,                                       ,                             PUNCT                                                                  _ _ _ _      O\n",
      "53        DESESTIMASE                             desestimar                    VERB                           Mood=Sub|Number=Sing|Person=1|Tense=Imp _ _ _ _  B-PER\n",
      "54        ,                                       ,                             PUNCT                                                                  _ _ _ _      O\n",
      "55        CON                                     con                           ADP                                                                    _ _ _ _      O\n",
      "56        COSTAS                                  costa                         NOUN                                            Gender=Fem|Number=Plur _ _ _ _  B-LOC\n",
      "57        .                                       .                             PUNCT                                                                  _ _ _ _      O\n",
      "\n",
      "\n",
      "#Sentence 6\n",
      "1         Y                                       y                             CONJ                                                                   _ _ _ _      O\n",
      "2-3       DEVUELVASE                              _                             _                                                                    _ _ _ _ _      _\n",
      "2         devolver                                devolver                      VERB                                     Mood=Imp|Number=Sing|Person=3 _ _ _ _      O\n",
      "3         se                                      se                            PRON                                                          Person=3 _ _ _ _      O\n",
      "4         .                                       .                             PUNCT                                                                  _ _ _ _      O\n",
      "\n",
      "\n",
      "\n"
     ]
    }
   ],
   "source": [
    "show(19159)"
   ]
  },
  {
   "cell_type": "code",
   "execution_count": null,
   "metadata": {
    "collapsed": true
   },
   "outputs": [],
   "source": []
  },
  {
   "cell_type": "code",
   "execution_count": null,
   "metadata": {
    "collapsed": true
   },
   "outputs": [],
   "source": []
  }
 ],
 "metadata": {
  "anaconda-cloud": {},
  "kernelspec": {
   "display_name": "Python [default]",
   "language": "python",
   "name": "python3"
  },
  "language_info": {
   "codemirror_mode": {
    "name": "ipython",
    "version": 3
   },
   "file_extension": ".py",
   "mimetype": "text/x-python",
   "name": "python",
   "nbconvert_exporter": "python",
   "pygments_lexer": "ipython3",
   "version": "3.5.2"
  }
 },
 "nbformat": 4,
 "nbformat_minor": 0
}
